{
 "cells": [
  {
   "cell_type": "code",
   "execution_count": null,
   "metadata": {},
   "outputs": [],
   "source": [
    "import pandas as pd\n",
    "\n",
    "boi = pd.read_excel('planilha_dos_boi.xlsx', sheet_name='plms')"
   ]
  },
  {
   "cell_type": "code",
   "execution_count": null,
   "metadata": {},
   "outputs": [],
   "source": [
    "boi.dropna(axis=1, how='all', inplace=True)\n",
    "boi.dropna(axis=0, how='all', inplace=True)"
   ]
  },
  {
   "cell_type": "code",
   "execution_count": null,
   "metadata": {},
   "outputs": [],
   "source": [
    "boi.iloc[0, :] = boi.iloc[0, :].fillna('Bateria')\n",
    "boi.set_axis(labels=boi.iloc[0, :], axis=1, inplace=True)\n",
    "boi.drop(axis=0, labels=1, inplace=True)"
   ]
  },
  {
   "cell_type": "code",
   "execution_count": null,
   "metadata": {},
   "outputs": [],
   "source": [
    "boi"
   ]
  },
  {
   "cell_type": "code",
   "execution_count": null,
   "metadata": {},
   "outputs": [],
   "source": [
    "colunas_plm = [coluna for coluna in boi.columns if 'plm' in coluna.lower()]\n",
    "df_concatenado = pd.DataFrame()\n",
    "for coluna in colunas_plm:\n",
    "    indice = boi.columns.get_loc(coluna)\n",
    "    fatiado = boi.iloc[:, indice:indice+2]\n",
    "    # df_concatenado = pd.concat([df_concatenado, fatiado],axis=1)\n",
    "    nome = fatiado.columns[0]\n",
    "    lista = [nome for nome in range(len(fatiado.index))]\n",
    "    display(fatiado)"
   ]
  },
  {
   "cell_type": "code",
   "execution_count": null,
   "metadata": {},
   "outputs": [],
   "source": [
    "df_concatenado"
   ]
  },
  {
   "cell_type": "code",
   "execution_count": null,
   "metadata": {},
   "outputs": [],
   "source": [
    "colunas_selecionadas = [coluna for coluna in boi.columns if \"plm\" in coluna.lower() or \"bateria\" in coluna.lower()]\n",
    "# concatenado = pd.concat([boi[coluna] for coluna in colunas_selecionadas], axis=0)\n",
    "colunas_selecionadas"
   ]
  },
  {
   "cell_type": "code",
   "execution_count": null,
   "metadata": {},
   "outputs": [],
   "source": [
    "unstac = boi.unstack()\n",
    "unstac"
   ]
  },
  {
   "cell_type": "code",
   "execution_count": null,
   "metadata": {},
   "outputs": [],
   "source": [
    "boi.isna()"
   ]
  }
 ],
 "metadata": {
  "kernelspec": {
   "display_name": "Python 3",
   "language": "python",
   "name": "python3"
  },
  "language_info": {
   "codemirror_mode": {
    "name": "ipython",
    "version": 3
   },
   "file_extension": ".py",
   "mimetype": "text/x-python",
   "name": "python",
   "nbconvert_exporter": "python",
   "pygments_lexer": "ipython3",
   "version": "3.11.1"
  },
  "orig_nbformat": 4
 },
 "nbformat": 4,
 "nbformat_minor": 2
}
